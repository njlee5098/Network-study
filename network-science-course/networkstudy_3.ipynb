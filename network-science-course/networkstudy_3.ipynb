{
 "cells": [
  {
   "cell_type": "code",
   "execution_count": 2,
   "metadata": {
    "ExecuteTime": {
     "end_time": "2020-09-17T02:29:32.949130Z",
     "start_time": "2020-09-17T02:29:32.940110Z"
    }
   },
   "outputs": [],
   "source": [
    "import io\n",
    "import csv"
   ]
  },
  {
   "cell_type": "markdown",
   "metadata": {},
   "source": [
    "# Reading a CSV file"
   ]
  },
  {
   "cell_type": "code",
   "execution_count": 60,
   "metadata": {
    "ExecuteTime": {
     "end_time": "2020-09-17T06:04:14.560362Z",
     "start_time": "2020-09-17T06:04:14.484148Z"
    }
   },
   "outputs": [],
   "source": [
    "disorders = []\n",
    "with io.open('/Users/namjoolee/Downloads/networks-science-course/practicum/data/disease-genes.csv') as file:\n",
    "    reader = csv.DictReader(file, delimiter=',', quotechar='\"')\n",
    "    for row in reader:\n",
    "        disorders.append(row)"
   ]
  },
  {
   "cell_type": "code",
   "execution_count": 61,
   "metadata": {
    "ExecuteTime": {
     "end_time": "2020-09-17T06:04:15.004649Z",
     "start_time": "2020-09-17T06:04:14.921440Z"
    }
   },
   "outputs": [],
   "source": [
    "new_list = []\n",
    "for d in disorders:\n",
    "    for gene in d['Genes'].split(','):\n",
    "        gene = gene.lstrip().rstrip()\n",
    "        temp_dict = dict()\n",
    "        temp_dict['disorder'] =  d['Name']\n",
    "        temp_dict['class'] = d['Class']\n",
    "        temp_dict['gene'] = gene\n",
    "        new_list.append(temp_dict)"
   ]
  },
  {
   "cell_type": "code",
   "execution_count": 63,
   "metadata": {
    "ExecuteTime": {
     "end_time": "2020-09-17T06:04:32.853499Z",
     "start_time": "2020-09-17T06:04:32.834578Z"
    }
   },
   "outputs": [
    {
     "data": {
      "text/plain": [
       "[{'disorder': '17,20-lyase deficiency, isolated',\n",
       "  'class': 'Endocrine',\n",
       "  'gene': 'CYP17A1'},\n",
       " {'disorder': '17,20-lyase deficiency, isolated',\n",
       "  'class': 'Endocrine',\n",
       "  'gene': 'CYP17'},\n",
       " {'disorder': '17,20-lyase deficiency, isolated',\n",
       "  'class': 'Endocrine',\n",
       "  'gene': 'P450C17'},\n",
       " {'disorder': '17-alpha-hydroxylase/17,20-lyase deficiency',\n",
       "  'class': 'Endocrine',\n",
       "  'gene': 'CYP17A1'},\n",
       " {'disorder': '17-alpha-hydroxylase/17,20-lyase deficiency',\n",
       "  'class': 'Endocrine',\n",
       "  'gene': 'CYP17'},\n",
       " {'disorder': '17-alpha-hydroxylase/17,20-lyase deficiency',\n",
       "  'class': 'Endocrine',\n",
       "  'gene': 'P450C17'},\n",
       " {'disorder': '2-methyl-3-hydroxybutyryl-CoA dehydrogenase deficiency',\n",
       "  'class': 'Metabolic',\n",
       "  'gene': 'HADH2'},\n",
       " {'disorder': '2-methyl-3-hydroxybutyryl-CoA dehydrogenase deficiency',\n",
       "  'class': 'Metabolic',\n",
       "  'gene': 'ERAB'},\n",
       " {'disorder': '2-methylbutyrylglycinuria',\n",
       "  'class': 'Metabolic',\n",
       "  'gene': 'ACADSB'},\n",
       " {'disorder': '3-beta-hydroxysteroid dehydrogenase, type II, deficiency',\n",
       "  'class': 'Metabolic',\n",
       "  'gene': 'HSD3B2'}]"
      ]
     },
     "execution_count": 63,
     "metadata": {},
     "output_type": "execute_result"
    }
   ],
   "source": [
    "new_list[:10]"
   ]
  },
  {
   "cell_type": "markdown",
   "metadata": {},
   "source": [
    "# Creating a csv file"
   ]
  },
  {
   "cell_type": "code",
   "execution_count": 38,
   "metadata": {
    "ExecuteTime": {
     "end_time": "2020-09-17T02:59:04.732698Z",
     "start_time": "2020-09-17T02:59:04.689818Z"
    }
   },
   "outputs": [],
   "source": [
    "FILEOUT_NAME = 'diseasome.csv'\n",
    "\n",
    "keys = new_list[0].keys()\n",
    "with open(FILEOUT_NAME, 'w', newline='') as output_file:\n",
    "    dict_writer = csv.DictWriter(output_file, keys)\n",
    "    dict_writer.writeheader()\n",
    "    dict_writer.writerows(new_list)"
   ]
  },
  {
   "cell_type": "markdown",
   "metadata": {},
   "source": [
    "# Disease-disease graph"
   ]
  },
  {
   "cell_type": "code",
   "execution_count": 54,
   "metadata": {
    "ExecuteTime": {
     "end_time": "2020-09-17T03:54:27.548850Z",
     "start_time": "2020-09-17T03:54:27.543619Z"
    },
    "run_control": {
     "marked": true
    }
   },
   "outputs": [],
   "source": [
    "def interXisection(list1, list2):\n",
    "    return(list(set(list1) & set(list2)))"
   ]
  },
  {
   "cell_type": "code",
   "execution_count": 56,
   "metadata": {
    "ExecuteTime": {
     "end_time": "2020-09-17T04:04:17.212284Z",
     "start_time": "2020-09-17T04:04:04.114937Z"
    }
   },
   "outputs": [],
   "source": [
    "common_list = []\n",
    "\n",
    "for d1 in disorders:\n",
    "    gene_d1 = [g.lstrip().rstrip() for g in d1['Genes'].split(',')]\n",
    "    for d2 in disorders:\n",
    "        if d1['Name'] > d2['Name']:\n",
    "            gene_d2 = [g.lstrip().rstrip() for g in d2['Genes'].split(',')]\n",
    "            common_genes = intersection(gene_d1, gene_d2)\n",
    "            if len(common_genes) > 0:\n",
    "                temp_dict = dict()\n",
    "                temp_dict['disease1'] = d1['Name']\n",
    "                temp_dict['disease2'] = d2['Name']\n",
    "                temp_dict['ngenes1'] = len(gene_d1)\n",
    "                temp_dict['ngenes2'] = len(gene_d2)\n",
    "                temp_dict['class1'] = d1['Class']\n",
    "                temp_dict['class2'] = d2['Class']\n",
    "                common_list.append(temp_dict)\n",
    "             "
   ]
  },
  {
   "cell_type": "code",
   "execution_count": 59,
   "metadata": {
    "ExecuteTime": {
     "end_time": "2020-09-17T04:20:03.592331Z",
     "start_time": "2020-09-17T04:20:03.560382Z"
    }
   },
   "outputs": [],
   "source": [
    "FILEOUT_NAME = 'disease_disease.csv'\n",
    "\n",
    "keys = common_list[0].keys()\n",
    "with open(FILEOUT_NAME, 'w', newline='') as output_file:\n",
    "    dict_writer = csv.DictWriter(output_file, keys)\n",
    "    dict_writer.writeheader()\n",
    "    dict_writer.writerows(common_list)"
   ]
  }
 ],
 "metadata": {
  "kernelspec": {
   "display_name": "Python 3",
   "language": "python",
   "name": "python3"
  },
  "language_info": {
   "codemirror_mode": {
    "name": "ipython",
    "version": 3
   },
   "file_extension": ".py",
   "mimetype": "text/x-python",
   "name": "python",
   "nbconvert_exporter": "python",
   "pygments_lexer": "ipython3",
   "version": "3.6.8"
  },
  "toc": {
   "base_numbering": 1,
   "nav_menu": {},
   "number_sections": true,
   "sideBar": true,
   "skip_h1_title": false,
   "title_cell": "Table of Contents",
   "title_sidebar": "Contents",
   "toc_cell": false,
   "toc_position": {},
   "toc_section_display": true,
   "toc_window_display": false
  },
  "varInspector": {
   "cols": {
    "lenName": 16,
    "lenType": 16,
    "lenVar": 40
   },
   "kernels_config": {
    "python": {
     "delete_cmd_postfix": "",
     "delete_cmd_prefix": "del ",
     "library": "var_list.py",
     "varRefreshCmd": "print(var_dic_list())"
    },
    "r": {
     "delete_cmd_postfix": ") ",
     "delete_cmd_prefix": "rm(",
     "library": "var_list.r",
     "varRefreshCmd": "cat(var_dic_list()) "
    }
   },
   "types_to_exclude": [
    "module",
    "function",
    "builtin_function_or_method",
    "instance",
    "_Feature"
   ],
   "window_display": false
  }
 },
 "nbformat": 4,
 "nbformat_minor": 2
}
